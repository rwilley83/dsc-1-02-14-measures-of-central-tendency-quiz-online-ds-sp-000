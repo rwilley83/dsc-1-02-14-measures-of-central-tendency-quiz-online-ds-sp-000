{
 "cells": [
  {
   "cell_type": "markdown",
   "metadata": {},
   "source": [
    "# Measures of Central Tendency - Quiz\n",
    "\n",
    "## Objectives\n",
    "You will be able to:\n",
    "* Understand and describe the significance of measuring central tendency of continuous data\n",
    "* Understand the formula and intuition behind the mean, median, mode and modal class\n",
    "* Compare mean-median-mode, along with histograms to explain the central tendency of given data"
   ]
  },
  {
   "cell_type": "markdown",
   "metadata": {},
   "source": [
    "### Exercise 1\n",
    "Calculate the mean, median and mode for this data set: \n",
    "```\n",
    "19, 18, 21, 16, 15, 17, 20, 18\n",
    "```\n",
    "While comparing the results of three measures, comment about this distribution. "
   ]
  },
  {
   "cell_type": "code",
   "execution_count": 6,
   "metadata": {},
   "outputs": [
    {
     "data": {
      "text/plain": [
       "{'mean': 18.0, 'median': 18.0, 'mode': 18}"
      ]
     },
     "execution_count": 6,
     "metadata": {},
     "output_type": "execute_result"
    }
   ],
   "source": [
    "number_list = sorted([19, 18, 21, 16, 15, 17, 20, 18])\n",
    "length = len(number_list)\n",
    "\n",
    "def calculate_mean(numbers):\n",
    "    return sum(numbers) / length\n",
    "\n",
    "def calculate_median(numbers):\n",
    "    if length % 2 == 1:\n",
    "        i = int(length / 2)\n",
    "        return numbers[i]\n",
    "    else:\n",
    "        i = int(length / 2)\n",
    "        return (numbers[i] + numbers[i - 1]) / 2\n",
    "\n",
    "def calculate_mode(numbers):\n",
    "    num_frequency = {}\n",
    "    for number in numbers:\n",
    "        num_frequency[number] = num_frequency.get(number, 0) + 1\n",
    "    frequencies = list(num_frequency.values())\n",
    "    i = frequencies.index(max(frequencies))\n",
    "    return list(num_frequency.keys())[i]\n",
    "    \n",
    "def three_m(numbers):\n",
    "    mean = calculate_mean(numbers)\n",
    "    median = calculate_median(numbers)\n",
    "    mode = calculate_mode(numbers)\n",
    "    return {'mean': mean, 'median': median, 'mode': mode}\n",
    "\n",
    "three_m(number_list)\n",
    "\n",
    "# The mean, median, and mode are all equal; therefore, this is a normal distribution"
   ]
  },
  {
   "cell_type": "markdown",
   "metadata": {},
   "source": [
    "### Exercise 2\n",
    "\n",
    "Calculate the mean, median and mode for given distribution and state which of these measures does not describe the \"middle\" of this data set? and why ?\n",
    "```\n",
    "100, 99, 97, 97, 96, 98, 95, 72\n",
    "```"
   ]
  },
  {
   "cell_type": "code",
   "execution_count": 5,
   "metadata": {},
   "outputs": [
    {
     "data": {
      "text/plain": [
       "{'mean': 94.25, 'median': 97.0, 'mode': 97}"
      ]
     },
     "execution_count": 5,
     "metadata": {},
     "output_type": "execute_result"
    }
   ],
   "source": [
    "number_list = sorted([100, 99, 97, 97, 96, 98, 95, 72])\n",
    "\n",
    "three_m(number_list)\n",
    "\n",
    "# The list has an outlier of 72, which skews the mean from the \"middle\" of the dataset"
   ]
  },
  {
   "cell_type": "markdown",
   "metadata": {},
   "source": [
    "### Exercise 3\n",
    "On the first three days of his bookshop opening, Joe sold 15, 18, and 16 books (He initially hoped that he would sell 17 books every day).  How many books does he need to sell on the next day to have a mean sale of 17?"
   ]
  },
  {
   "cell_type": "code",
   "execution_count": 3,
   "metadata": {},
   "outputs": [
    {
     "data": {
      "text/plain": [
       "19"
      ]
     },
     "execution_count": 3,
     "metadata": {},
     "output_type": "execute_result"
    }
   ],
   "source": [
    "books_sold = [15, 16, 18]\n",
    "17 * (len(books_sold) + 1) - sum(books_sold)    "
   ]
  },
  {
   "cell_type": "markdown",
   "metadata": {},
   "source": [
    "### Exercise 4\n",
    "The histograms show the amount of time (hours per day) spent on Facebook by 46 middle school girls and 40 middle school boys from a school in San Francisco. A total of 50 boys and 50 girls took the survey, 4 girls and 10 boys did not use Facebook at all. \n",
    "Each is graphed with a bin width of 0.25 hours.\n",
    "\n",
    "![](boys.png)\n",
    "![](girls.png)\n",
    "\n",
    "Looking at these histograms, answer following questions. \n",
    "\n",
    "*Hint: For most parts, you will have to figure out the location of required bins and count the frequencies. *\n",
    "\n",
    "#### How many boys spend more than 1.5 hours/day on Facebook?\n"
   ]
  },
  {
   "cell_type": "code",
   "execution_count": 8,
   "metadata": {},
   "outputs": [
    {
     "data": {
      "text/plain": [
       "8"
      ]
     },
     "execution_count": 8,
     "metadata": {},
     "output_type": "execute_result"
    }
   ],
   "source": [
    "boy_times = [10, 1, 6, 9, 4, 7, 5, 5, 3]\n",
    "girl_times = [4, 1, 4, 3, 2, 2, 0, 5, 4, 3, 5, 1, 2, 1, 1, 6, 6]\n",
    "keys = []\n",
    "\n",
    "for i in list(range(0, len(girl_times))):\n",
    "    keys.append(i / 4)\n",
    "\n",
    "boy_times_updated = boy_times\n",
    "for i in list(range(len(boy_times), len(girl_times))):\n",
    "    boy_times_updated.append(0)\n",
    "\n",
    "girls = {}\n",
    "boys = {}\n",
    "\n",
    "for key in keys:\n",
    "    boys[key] = boy_times[int(key * 4)]\n",
    "    girls[key] = girl_times[int(key * 4)]\n",
    "\n",
    "boy_count = 0\n",
    "for key in keys:\n",
    "    if key > 1.5:\n",
    "        boy_count += boys[key]\n",
    "       \n",
    "boy_count"
   ]
  },
  {
   "cell_type": "markdown",
   "metadata": {},
   "source": [
    "#### Compare the percentage of boys and girls that spend more than zero but less than 1 hour/day on Facebook."
   ]
  },
  {
   "cell_type": "code",
   "execution_count": 9,
   "metadata": {},
   "outputs": [
    {
     "name": "stdout",
     "output_type": "stream",
     "text": [
      "0.2\n",
      "0.4\n"
     ]
    }
   ],
   "source": [
    "girl_count = 0\n",
    "boy_count = 0\n",
    "\n",
    "for key in keys:\n",
    "    if key < 1.10 and key > 0:\n",
    "        girl_count += girls[key]\n",
    "        boy_count += boys[key]\n",
    "\n",
    "girl_percent = girl_count/50\n",
    "boy_percent = boy_count/50\n",
    "\n",
    "print(girl_percent)\n",
    "print(boy_percent)"
   ]
  },
  {
   "cell_type": "markdown",
   "metadata": {},
   "source": [
    "#### Find the bin where the median of the boys' data set lies."
   ]
  },
  {
   "cell_type": "code",
   "execution_count": 10,
   "metadata": {},
   "outputs": [
    {
     "data": {
      "text/plain": [
       "1"
      ]
     },
     "execution_count": 10,
     "metadata": {},
     "output_type": "execute_result"
    }
   ],
   "source": [
    "calculate_median(boy_times)"
   ]
  },
  {
   "cell_type": "markdown",
   "metadata": {},
   "source": [
    "#### In terms of Facebook usage times based on given data, what can you conclude about usage habits of boys and girls?"
   ]
  },
  {
   "cell_type": "code",
   "execution_count": 16,
   "metadata": {},
   "outputs": [
    {
     "name": "stdout",
     "output_type": "stream",
     "text": [
      "Boys: {'mean': 2.9411764705882355, 'median': 1, 'mode': 0}\n",
      "Girls: {'mean': 2.9411764705882355, 'median': 3, 'mode': 1}\n"
     ]
    }
   ],
   "source": [
    "print(\"Boys:\", three_m(boy_times))\n",
    "print(\"Girls:\", three_m(girl_times))\n",
    "\n",
    "# Boys are less likely to use Facebook, and if they do use it, they spend considerably less time on it than girls. "
   ]
  },
  {
   "cell_type": "code",
   "execution_count": null,
   "metadata": {},
   "outputs": [],
   "source": []
  }
 ],
 "metadata": {
  "kernelspec": {
   "display_name": "Python 3",
   "language": "python",
   "name": "python3"
  },
  "language_info": {
   "codemirror_mode": {
    "name": "ipython",
    "version": 3
   },
   "file_extension": ".py",
   "mimetype": "text/x-python",
   "name": "python",
   "nbconvert_exporter": "python",
   "pygments_lexer": "ipython3",
   "version": "3.6.4"
  }
 },
 "nbformat": 4,
 "nbformat_minor": 2
}
